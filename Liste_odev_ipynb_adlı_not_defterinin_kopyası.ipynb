{
  "cells": [
    {
      "cell_type": "markdown",
      "metadata": {
        "id": "1eZqjMjLXiZk"
      },
      "source": [
        "### Ödev 1\n",
        "\n",
        "liste = [\"Python\",True,9,\"3\",8.4,\"Hi-Kod\",\"False\",4.7]\n",
        "\n",
        "1. Aşağıdaki işlemleri indexing ve slicing kullanarak liste üzerinde uygulayın.\n",
        "\n",
        "   - \"3\" değerine ulaşmak için indexleme yapın.\n",
        "   - \"Hi-Kod\" değerine ulaşmak için indexleme yapın.\n",
        "   - 4.7 değerine ulaşmak için indexleme yapın.\n",
        "   - 9,\"3\",8.4,\"Hi-Kod\" değerlerine ulaşmak için slicing yapın.\n",
        "   - 8.4,\"Hi-Kod\",\"False\",4.7 değerlerine ulaşmak için slicing yapın."
      ]
    },
    {
      "cell_type": "code",
      "execution_count": null,
      "metadata": {
        "id": "PYUCb893XiZm",
        "outputId": "61b894d1-cea3-4b18-a8ef-279aafc08694",
        "colab": {
          "base_uri": "https://localhost:8080/"
        }
      },
      "outputs": [
        {
          "output_type": "stream",
          "name": "stdout",
          "text": [
            "3\n",
            "Hi-Kod\n",
            "4.7\n",
            "[9, '3', 8.4, 'Hi-Kod']\n",
            "[8.4, 'Hi-Kod', 'False', 4.7]\n"
          ]
        }
      ],
      "source": [
        "liste = [\"Python\",True,9,\"3\",8.4,\"Hi-Kod\",\"False\",4.7]\n",
        "slc1 = slice(2, 6)\n",
        "slc2 = slice(4, 8)\n",
        "\n",
        "print(liste[3])\n",
        "print(liste[-3])\n",
        "print(liste[-1])\n",
        "print(liste[slc1])\n",
        "print(liste[slc2])"
      ]
    },
    {
      "cell_type": "markdown",
      "metadata": {
        "id": "XwZ639toXiZn"
      },
      "source": [
        "### Ödev 2\n",
        "\n",
        "Verilen listede bulunan string veri tipindeki öğeleri yeni_liste isimli listeye eklenir.\n",
        "\n",
        "liste = [\"Python\",True,9,\"3\",8.4,\"Hi-Kod\",\"False\",4.7]"
      ]
    },
    {
      "cell_type": "code",
      "execution_count": null,
      "metadata": {
        "id": "rZelJjSWXiZo",
        "outputId": "7b9a1ff6-56ca-420e-f442-9118ea87a292",
        "colab": {
          "base_uri": "https://localhost:8080/"
        }
      },
      "outputs": [
        {
          "output_type": "stream",
          "name": "stdout",
          "text": [
            "['Python', '3', 'Hi-Kod', 'False']\n"
          ]
        }
      ],
      "source": [
        "liste = [\"Python\",True,9,\"3\",8.4,\"Hi-Kod\",\"False\",4.7]\n",
        "\n",
        "str_list = []\n",
        "\n",
        "for i in liste:\n",
        "  if type(i) == str:\n",
        "    str_list.append(i)\n",
        "print(str_list)"
      ]
    },
    {
      "cell_type": "markdown",
      "metadata": {
        "id": "wHHWU4EkXiZo"
      },
      "source": [
        "### Ödev 3\n",
        "\n",
        "Enumerate methodunu araştırın ve aşağıdaki örneği enumerate methodu ile yapın."
      ]
    },
    {
      "cell_type": "code",
      "execution_count": null,
      "metadata": {
        "id": "rOao0N3RXiZp",
        "outputId": "eda50763-8e5f-49f1-ef48-86b25d42d529",
        "colab": {
          "base_uri": "https://localhost:8080/"
        }
      },
      "outputs": [
        {
          "output_type": "stream",
          "name": "stdout",
          "text": [
            "0. indexte bulunan meyve: Elma\n",
            "1. indexte bulunan meyve: Armut\n",
            "2. indexte bulunan meyve: Muz\n",
            "3. indexte bulunan meyve: Şeftali\n"
          ]
        }
      ],
      "source": [
        "meyveler = [\"Elma\", \"Armut\", \"Muz\", \"Şeftali\"]\n",
        "\n",
        "for index in enumerate(meyveler):\n",
        "  print(\"{}. indexte bulunan meyve: {}\".format(index[0], index[1]))"
      ]
    },
    {
      "cell_type": "markdown",
      "metadata": {
        "id": "m_ONW8AtXiZp"
      },
      "source": []
    }
  ],
  "metadata": {
    "language_info": {
      "name": "python"
    },
    "colab": {
      "provenance": []
    },
    "kernelspec": {
      "name": "python3",
      "display_name": "Python 3"
    }
  },
  "nbformat": 4,
  "nbformat_minor": 0
}